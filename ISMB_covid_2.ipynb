{
  "nbformat": 4,
  "nbformat_minor": 0,
  "metadata": {
    "colab": {
      "provenance": [],
      "collapsed_sections": [
        "xuEatVUEJOXJ",
        "nHKyTAAfJ2no"
      ],
      "authorship_tag": "ABX9TyMe/ynlKiq8YeXUSuY7Xtr0",
      "include_colab_link": true
    },
    "kernelspec": {
      "name": "python3",
      "display_name": "Python 3"
    },
    "language_info": {
      "name": "python"
    }
  },
  "cells": [
    {
      "cell_type": "markdown",
      "metadata": {
        "id": "view-in-github",
        "colab_type": "text"
      },
      "source": [
        "<a href=\"https://colab.research.google.com/github/habibsifat/Algorithm-for-Bengali-Error-Dataset-Generation/blob/master/ISMB_covid_2.ipynb\" target=\"_parent\"><img src=\"https://colab.research.google.com/assets/colab-badge.svg\" alt=\"Open In Colab\"/></a>"
      ]
    },
    {
      "cell_type": "code",
      "source": [
        "pip install ete3"
      ],
      "metadata": {
        "id": "H5lc5UoRaGVF"
      },
      "execution_count": null,
      "outputs": []
    },
    {
      "cell_type": "code",
      "source": [
        "from ete3 import Tree\n",
        "from collections import defaultdict\n",
        "import networkx as nx\n",
        "import matplotlib.pyplot as plt"
      ],
      "metadata": {
        "id": "ReFKYIsfaI7E"
      },
      "execution_count": 3,
      "outputs": []
    },
    {
      "cell_type": "code",
      "execution_count": 67,
      "metadata": {
        "id": "G5A-JtPpZoSK",
        "colab": {
          "base_uri": "https://localhost:8080/"
        },
        "outputId": "a8bc09fe-3e67-4c30-c36b-e517b1595573"
      },
      "outputs": [
        {
          "output_type": "stream",
          "name": "stdout",
          "text": [
            "\n",
            "number of all internal nodes: 60\n",
            "\n",
            "all internal nodes: ['231', '5678', '019', '01456789', '01123456789', '111123', '1156', '1189', '111111111123456789', '01111111111112233445566778899', '00111111111111112222222333445566778899', '111456', '1112', '111111123456', '1122223', '011222223', '567', '00111122222233456789', '00111111111112222222333445566789', '0011111111111122222223334455667789', '11111234', '11111111234789', '45678', '12345678', '0112222', '01112222223345678', '111567', '11111111234567', '0222', '01222223', '78', '56', '01111111111111222222233344556677889', '111789', '123', '0011111111111122222223334456778899', '013456789', '0123456789', '0011122222233456789', '00111112222223345566789', '0011111111112222222333445566789', '0011111111111112222222333445566778899', '568', '0149', '011111111111122222233456789', '011111111111112222222333456789', '1111112389', '11114789', '1111112356', '001111111111111122222223334567899', '0011111111111111222222233344567899', '0122223', '11222', '678', '01122222345678', '1111156789', '1235678', '0111111112222222333445678', '0111569', '0111111567899']\n",
            "\n",
            "all vertices: ['23', '00111111111111112222222333445566778899', '22', '1', '21', '20', '01111111111112233445566778899', '16', '111111111123456789', '1156', '15', '14', '1189', '19', '18', '01456789', '4', '01123456789', '11', '111123', '12', '13', '3', '2', '231', '5678', '5', '6', '7', '8', '17', '019', '10', '9', '0011111111111122222223334455667789', '00111111111112222222333445566789', '111111123456', '1112', '111456', '00111122222233456789', '567', '011222223', '1122223', '11111111234789', '11111234', '01112222223345678', '12345678', '45678', '0112222', '01111111111111222222233344556677889', '56', '78', '11111111234567', '01222223', '0222', '111567', '0011111111111122222223334456778899', '111789', '123', '0011111111111112222222333445566778899', '0011111111112222222333445566789', '00111112222223345566789', '0011122222233456789', '0123456789', '013456789', '568', '0149', '011111111111112222222333456789', '011111111111122222233456789', '1111112389', '0011111111111111222222233344567899', '001111111111111122222223334567899', '11114789', '1111112356', '0122223', '1111156789', '01122222345678', '678', '11222', '0111111567899', '0111569', '0111111112222222333445678', '1235678']\n",
            "\n",
            "number of vertices: 83\n"
          ]
        }
      ],
      "source": [
        "vertices = []\n",
        "vertices_no = 0\n",
        "graph = []\n",
        "edge_frequencies = defaultdict(int)\n",
        "all_internal_nodes = []\n",
        "\n",
        "\n",
        "def identify_nodes(tree):\n",
        "    leaf_nodes = []\n",
        "    for node in tree.traverse(\"postorder\"):\n",
        "        if node.is_leaf():\n",
        "            leaf_nodes.append(node.name)\n",
        "    return leaf_nodes\n",
        "\n",
        "\n",
        "def add_vertex(v):\n",
        "    global graph\n",
        "    global vertices_no\n",
        "    global vertices\n",
        "    if v not in vertices:\n",
        "      vertices_no = vertices_no + 1\n",
        "      vertices.append(v)\n",
        "      if vertices_no > 1:\n",
        "          for vertex in graph:\n",
        "              vertex.append(0)\n",
        "      temp = []\n",
        "      for i in range(vertices_no):\n",
        "          temp.append(0)\n",
        "      graph.append(temp)\n",
        "\n",
        "def add_edge(v1, v2, e):\n",
        "    global graph\n",
        "    global vertices_no\n",
        "    global vertices\n",
        "    edge_frequencies[(v1, v2)] += 1\n",
        "    edge_frequencies[(v2, v1)] += 1  # Assuming an undirected graph\n",
        "    index1 = vertices.index(v1)\n",
        "    index2 = vertices.index(v2)\n",
        "    # Check if an edge already exists between v1 and v2\n",
        "    if graph[index1][index2] != 0:\n",
        "        existing_weight = graph[index1][index2]\n",
        "        new_weight = (existing_weight + e) / 2\n",
        "        new_weight = round(new_weight, 2)\n",
        "        graph[index1][index2] = new_weight\n",
        "    else:\n",
        "        graph[index1][index2] = e\n",
        "\n",
        "\n",
        "def update_internal_node_names(tree, leaf_nodes):\n",
        "    internal_nodes = []\n",
        "    def update_internal_node(node):\n",
        "        if not node.is_leaf():\n",
        "            children_names = sorted([child.name for child in node.children])\n",
        "            new_name = ''.join(children_names)\n",
        "            new_name = ''.join(sorted(new_name))\n",
        "            if new_name in leaf_nodes:\n",
        "                new_name = generate_unique_name(new_name)\n",
        "            node.name = new_name\n",
        "            internal_nodes.append(node.name)\n",
        "            if node.name not in all_internal_nodes:\n",
        "              all_internal_nodes.append(node.name)\n",
        "\n",
        "    def generate_unique_name(name):\n",
        "        # Generate a unique name by adding a suffix\n",
        "        suffix = 1\n",
        "        while name + str(suffix) in leaf_nodes:\n",
        "            suffix += 1\n",
        "        return name + str(suffix)\n",
        "\n",
        "    for node in tree.traverse(\"postorder\"):\n",
        "        update_internal_node(node)\n",
        "    return internal_nodes\n",
        "\n",
        "\n",
        "def calculate_distance_matrices(tree):\n",
        "    # Get a list of all unique nodes (leaves and internal nodes)\n",
        "    unique_nodes = set(tree.iter_leaves())\n",
        "    unique_nodes.update(tree.traverse(\"preorder\"))\n",
        "\n",
        "    # Create a matrix to represent the distances\n",
        "    node_names = [node.name for node in unique_nodes]  # Define node_names here\n",
        "    node_names.sort(key=lambda x: (tree & x).get_distance(tree))\n",
        "    # Initialize a dictionary to store distances between nodes\n",
        "    distance_matrix = []\n",
        "    distances = {}\n",
        "    for node in node_names:\n",
        "        add_vertex(node)\n",
        "    # Calculate distances\n",
        "    for node1 in unique_nodes:\n",
        "        for node2 in unique_nodes:\n",
        "            if node1 != node2:\n",
        "                distance = node1.get_distance(node2)\n",
        "                distances[(node1.name, node2.name)] = distance\n",
        "    # add edge\n",
        "    for node1 in node_names:\n",
        "        for node2 in node_names:\n",
        "            if node1 != node2:\n",
        "                distance1 = distances.get((node1, node2), 0)\n",
        "                distance1 = round(distance1, 2)\n",
        "                add_edge(node1, node2, distance1)\n",
        "\n",
        "    for node1 in node_names:\n",
        "        row = [distances.get((node1, node2), 0) for node2 in node_names]\n",
        "        distance_matrix.append(row)\n",
        "    distance_matrix = [[round(value, 2) for value in row] for row in distance_matrix]\n",
        "\n",
        "    condensed_distance_matrix = []\n",
        "    for i in range(len(node_names)):\n",
        "        row = [distances.get((node_names[i], node_names[j]), 0) for j in range(i + 1)]\n",
        "        condensed_distance_matrix.append(row)\n",
        "\n",
        "    condensed_distance_matrix = [[round(value, 2) for value in row] for row in condensed_distance_matrix]\n",
        "    return distance_matrix\n",
        "\n",
        "\n",
        "input_file = '/content/12trees23.txt'\n",
        "with open(input_file, 'r') as file:\n",
        "    for idx, line in enumerate(file, 1):\n",
        "        tree = Tree(line.strip(), format=1)\n",
        "        leaf_nodes = identify_nodes(tree)\n",
        "        # print(leaf_nodes)\n",
        "        internal_nodes = update_internal_node_names(tree,leaf_nodes)\n",
        "        # print(internal_nodes)\n",
        "        distance_matrix2 = calculate_distance_matrices(tree)\n",
        "\n",
        "# print('\\nnumber of internal nodes:',len(internal_nodes))\n",
        "print('\\nnumber of all internal nodes:',len(all_internal_nodes))\n",
        "print('\\nall internal nodes:',all_internal_nodes)\n",
        "print('\\nall vertices:',vertices)\n",
        "print('\\nnumber of vertices:',vertices_no)\n",
        "\n"
      ]
    },
    {
      "cell_type": "code",
      "source": [
        "# Extract unique node names\n",
        "nodes = sorted(set(node for edge in edge_frequencies for node in edge))\n",
        "\n",
        "# Create an empty 2D array filled with zeros\n",
        "num_nodes = len(nodes)\n",
        "print('\\nnodes:',nodes)\n",
        "print('\\nnumber of nodes:',num_nodes)\n",
        "print('\\nnumber of vertices:',vertices_no)\n",
        "# Populate the frequency matrix with the values from the dictionary\n",
        "frequency_matrix = [[0] * num_nodes for _ in range(num_nodes)]\n",
        "for i in range(num_nodes):\n",
        "    for j in range(num_nodes):\n",
        "        node_i, node_j = nodes[i], nodes[j]\n",
        "        if (node_i, node_j) in edge_frequencies:\n",
        "            frequency_matrix[i][j] = edge_frequencies[(node_i, node_j)]\n",
        "        elif (node_j, node_i) in edge_frequencies:\n",
        "            frequency_matrix[i][j] = edge_frequencies[(node_j, node_i)]  # Assuming an undirected graph\n",
        "\n",
        "dist_matrix = [[0 for _ in range(vertices_no)] for _ in range(vertices_no)]\n",
        "for i in range(vertices_no):\n",
        "  for j in range(vertices_no):\n",
        "    if graph[i][j] != 0:\n",
        "      dist_matrix[i][j] = graph[i][j]\n",
        "\n",
        "\n",
        "\n",
        "# Define a function to remove cycles from the graph\n",
        "def remove_cycles(graph):\n",
        "    G = nx.Graph()\n",
        "\n",
        "    # Add edges to a NetworkX graph\n",
        "    for i in range(len(graph)):\n",
        "        for j in range(i + 1, len(graph[i])):\n",
        "            weight = graph[i][j]\n",
        "            if weight != 0:\n",
        "                G.add_edge(i, j, weight=weight)\n",
        "\n",
        "    # Find cycles\n",
        "    cycles = list(nx.cycle_basis(G))\n",
        "    print('\\ncycles are :',cycles)\n",
        "    # Remove edges in cycles\n",
        "    for cycle in cycles:\n",
        "        for i in range(len(cycle)):\n",
        "            j = (i + 1) % len(cycle)\n",
        "            u, v = cycle[i], cycle[j]\n",
        "            if graph[u][v] != 0:\n",
        "                graph[u][v] = 0\n",
        "\n",
        "\n",
        "\n",
        "# Define a function to remove duplicate edges\n",
        "def remove_duplicates(graph):\n",
        "    for i in range(len(graph)):\n",
        "        for j in range(i + 1, len(graph[i])):\n",
        "            if graph[i][j] == 0:\n",
        "                continue\n",
        "            if graph[i][j] != graph[j][i] and graph[j][i] != 0:\n",
        "              print('duplicates are : ',graph[i][j], graph[j][i])\n",
        "              # Keep the edge with average weight\n",
        "              first_weight = graph[i][j]\n",
        "              second_weight = graph[j][i]\n",
        "              updated_weight = first_weight/second_weight\n",
        "              updated_weight = round(updated_weight, 2)\n",
        "              graph[i][j] = updated_weight\n",
        "              graph[j][i] = 0\n",
        "\n",
        "\n",
        "def modified_prims(graph, frequencies, internal_nodes):\n",
        "    num_nodes = len(graph)\n",
        "    mst = []\n",
        "    in_mst = [False] * num_nodes\n",
        "\n",
        "    # Create a mapping from node names to indices\n",
        "    node_name_to_index = {name: index for index, name in enumerate(vertices)}\n",
        "\n",
        "    # Debugging: Print the mappings and input lists\n",
        "    print(\"Vertices:\", vertices)\n",
        "    print(\"Internal Nodes:\", internal_nodes)\n",
        "    print(\"Node Name to Index Mapping:\", node_name_to_index)\n",
        "\n",
        "    # Start from the first node of interest.\n",
        "    start_node = internal_nodes[0]\n",
        "\n",
        "    # Handle case where start_node might not be in the mapping\n",
        "    if start_node not in node_name_to_index:\n",
        "        print(f\"Start node '{start_node}' not found in node_name_to_index mapping.\")\n",
        "        return []  # or handle this case as needed\n",
        "\n",
        "    # Convert start_node from a name to an index\n",
        "    start_node_index = node_name_to_index[start_node]\n",
        "\n",
        "    # Use this index in your MST algorithm\n",
        "    in_mst[start_node_index] = True\n",
        "\n",
        "    while len(mst) < len(internal_nodes) - 1:\n",
        "        max_frequency = -1\n",
        "        chosen_edge = (None, None, float('inf'))  # Initialize with placeholder values\n",
        "\n",
        "        for node_name in internal_nodes:\n",
        "            node_index = node_name_to_index[node_name]\n",
        "            if in_mst[node_index]:\n",
        "                for neighbor_index, edge_weight in enumerate(graph[node_index]):\n",
        "                    neighbor_name = vertices[neighbor_index]  # Get the name of the neighbor\n",
        "                    if neighbor_name in internal_nodes and not in_mst[neighbor_index]:\n",
        "                        frequency = frequencies[node_index][neighbor_index]\n",
        "                        # if frequency >= max_frequency and edge_weight < chosen_edge[2]:\n",
        "                        if frequency >= max_frequency:\n",
        "                            max_frequency = frequency\n",
        "                            # Store indices instead of names\n",
        "                            chosen_edge = (node_index, neighbor_index, edge_weight)\n",
        "\n",
        "        # After the loop, update in_mst and mst using indices\n",
        "        # print(\"Chosen edge:\", chosen_edge)\n",
        "        # print(\"Type of chosen_edge[1]:\", type(chosen_edge[1]))\n",
        "        if chosen_edge[0] is not None and chosen_edge[1] is not None:\n",
        "            # Use index for in_mst\n",
        "            in_mst[chosen_edge[1]] = True\n",
        "            # Convert indices back to names for mst\n",
        "            mst.append((vertices[chosen_edge[0]], vertices[chosen_edge[1]]))\n",
        "\n",
        "\n",
        "    return mst\n",
        "\n",
        "\n",
        "def draw_mst(mst_G):\n",
        "    # Draw the graph\n",
        "    pos = nx.spring_layout(mst_G)  # Layout algorithm (you can choose another one)\n",
        "\n",
        "    # Increase the figure size (adjust the width and height as needed)\n",
        "    plt.figure(figsize=(15, 15))\n",
        "\n",
        "    # Customize node and edge visual properties for clarity\n",
        "    nx.draw(mst_G, pos, with_labels=True, node_size=30, node_color='skyblue', font_size=8, font_color='black', edge_color='gray', width=0.8)\n",
        "\n",
        "    # Display the graph\n",
        "    plt.axis('off')\n",
        "    plt.show()\n",
        "\n",
        "# Call the function to remove cycles from the graph\n",
        "remove_cycles(graph)\n",
        "\n",
        "# Call the function to remove duplicate edges\n",
        "remove_duplicates(graph)\n",
        "\n",
        "# Call the modified_prims function with the specified nodes\n",
        "mst_result = modified_prims(dist_matrix, frequency_matrix, all_internal_nodes)\n",
        "print('\\nMST :',mst_result)\n",
        "mst_G = nx.Graph()\n",
        "for edge in mst_result:\n",
        "    mst_G.add_edge(edge[0], edge[1])\n",
        "\n",
        "draw_mst(mst_G)\n"
      ],
      "metadata": {
        "id": "eryq_nl3nuX1"
      },
      "execution_count": null,
      "outputs": []
    },
    {
      "cell_type": "markdown",
      "source": [
        "**add leaf nodes**"
      ],
      "metadata": {
        "id": "9psuBmX_rR3C"
      }
    },
    {
      "cell_type": "code",
      "source": [
        "import networkx as nx\n",
        "\n",
        "# Assuming result is already obtained from modified_prims function\n",
        "G = nx.Graph()\n",
        "for edge in mst_result:\n",
        "    G.add_edge(edge[0], edge[1])\n",
        "# Create a mapping from node names to indices\n",
        "node_name_to_index = {name: index for index, name in enumerate(vertices)}\n",
        "# Assuming dist_matrix is a 2D array-like structure with distances between nodes\n",
        "# and node_name_to_index is a dictionary mapping node names to their indices in dist_matrix\n",
        "for leaf in leaf_nodes:\n",
        "    leaf_index = node_name_to_index[leaf]\n",
        "    nearest_internal_node = None\n",
        "    min_distance = float('inf')\n",
        "    max_freq = -1\n",
        "    for internal_node in all_internal_nodes:\n",
        "        internal_node_index = node_name_to_index[internal_node]\n",
        "        distance = dist_matrix[leaf_index][internal_node_index]\n",
        "        freq = frequency_matrix[leaf_index][internal_node_index]\n",
        "        # if distance < min_distance:\n",
        "        if distance < min_distance and freq >= max_freq:\n",
        "            min_distance = distance\n",
        "            nearest_internal_node = internal_node\n",
        "\n",
        "    if nearest_internal_node is not None:\n",
        "        G.add_edge(leaf, nearest_internal_node)\n",
        "\n",
        "# Now G contains the original MST with leaf nodes connected to the nearest internal nodes\n"
      ],
      "metadata": {
        "id": "TgoYUqYd5XKp"
      },
      "execution_count": 69,
      "outputs": []
    },
    {
      "cell_type": "code",
      "source": [
        "# Draw the graph\n",
        "pos = nx.spring_layout(G)  # Layout algorithm (you can choose another one)\n",
        "\n",
        "# Increase the figure size (adjust the width and height as needed)\n",
        "plt.figure(figsize=(15, 15))\n",
        "\n",
        "# Customize node and edge visual properties for clarity\n",
        "nx.draw(G, pos, with_labels=True, node_size=300, node_color='skyblue', font_size=8, font_color='black', edge_color='gray', width=1.0)\n",
        "\n",
        "# Display the graph\n",
        "plt.axis('off')\n",
        "plt.show()"
      ],
      "metadata": {
        "id": "ietJ1b4S5-8r"
      },
      "execution_count": null,
      "outputs": []
    },
    {
      "cell_type": "markdown",
      "source": [
        "**remove extra internal nodes**"
      ],
      "metadata": {
        "id": "MmJkcwS-rIgu"
      }
    },
    {
      "cell_type": "code",
      "source": [
        "# import networkx as nx\n",
        "\n",
        "# Assuming G is your graph with the MST and leaf nodes added\n",
        "# all_internal_nodes is a list of all internal node names\n",
        "# leaf_nodes is a list of all leaf node names\n",
        "\n",
        "# Create a set of leaf nodes for faster lookup\n",
        "# leaf_node_set = set(leaf_nodes)\n",
        "\n",
        "# # Iterate over a copy of the internal nodes list to avoid modification during iteration\n",
        "# for internal_node in all_internal_nodes[:]:\n",
        "#     # Check the neighbors of the internal node\n",
        "#     neighbors = list(G.neighbors(internal_node))\n",
        "\n",
        "#     # Check if the internal node is connected only to one other internal node and no leaf nodes\n",
        "#     if len(neighbors) == 1 and neighbors[0] in all_internal_nodes and not any(neighbor in leaf_node_set for neighbor in neighbors):\n",
        "#         G.remove_node(internal_node)\n",
        "#         all_internal_nodes.remove(internal_node)  # Optional: update the internal nodes list\n",
        "\n",
        "# Now G contains only the internal nodes that are connected to leaf nodes or more than one internal node\n"
      ],
      "metadata": {
        "id": "3YMA05pqq74D"
      },
      "execution_count": 53,
      "outputs": []
    },
    {
      "cell_type": "code",
      "source": [
        "# import networkx as nx\n",
        "\n",
        "# # Assuming G is your graph with the MST and leaf nodes added\n",
        "# # all_internal_nodes is a list of all internal node names\n",
        "# # leaf_nodes is a list of all leaf node names\n",
        "\n",
        "# # Create a set of leaf nodes for faster lookup\n",
        "# leaf_node_set = set(leaf_nodes)\n",
        "\n",
        "# # Iterate over a copy of the internal nodes list to avoid modification during iteration\n",
        "# for internal_node in all_internal_nodes[:]:\n",
        "#     # Check the neighbors of the internal node\n",
        "#     neighbors = list(G.neighbors(internal_node))\n",
        "\n",
        "#     # Check if the internal node is connected only to one other internal node and no leaf nodes\n",
        "#     if len(neighbors) == 1 and neighbors[0] in all_internal_nodes and not any(neighbor in leaf_node_set for neighbor in neighbors):\n",
        "#         G.remove_node(internal_node)\n",
        "#         all_internal_nodes.remove(internal_node)\n",
        "#     # New condition: if the internal node is connected to exactly one leaf node and one internal node\n",
        "#     elif len(neighbors) == 2 and any(neighbor in leaf_node_set for neighbor in neighbors) and any(neighbor in all_internal_nodes for neighbor in neighbors):\n",
        "#         # Identify the leaf node and the other internal node\n",
        "#         leaf_node = next(neighbor for neighbor in neighbors if neighbor in leaf_node_set)\n",
        "#         other_internal_node = next(neighbor for neighbor in neighbors if neighbor in all_internal_nodes)\n",
        "\n",
        "#         # Remove the internal node and add an edge between the leaf node and the other internal node\n",
        "#         G.remove_node(internal_node)\n",
        "#         G.add_edge(leaf_node, other_internal_node)\n",
        "#         all_internal_nodes.remove(internal_node)  # Optional: update the internal nodes list\n",
        "\n",
        "# # Now G contains only the internal nodes that are connected to leaf nodes or more than one internal node\n"
      ],
      "metadata": {
        "id": "BQ73Xr3fcmj6"
      },
      "execution_count": 64,
      "outputs": []
    },
    {
      "cell_type": "markdown",
      "source": [
        "merge branch length"
      ],
      "metadata": {
        "id": "9XBI6Q9iebQL"
      }
    },
    {
      "cell_type": "code",
      "source": [
        "import networkx as nx\n",
        "\n",
        "# Assuming G is your graph with the MST, leaf nodes added\n",
        "# all_internal_nodes is a list of all internal node names\n",
        "# leaf_nodes is a list of all leaf node names\n",
        "# dist_matrix is the distance matrix storing branch lengths\n",
        "\n",
        "# Create a set of leaf nodes for faster lookup\n",
        "leaf_node_set = set(leaf_nodes)\n",
        "\n",
        "# Iterate over a copy of the internal nodes list to avoid modification during iteration\n",
        "for internal_node in all_internal_nodes[:]:\n",
        "    # Check the neighbors of the internal node\n",
        "    neighbors = list(G.neighbors(internal_node))\n",
        "\n",
        "    # Check if the internal node is connected only to one other internal node and no leaf nodes\n",
        "    if len(neighbors) == 1 and neighbors[0] in all_internal_nodes and not any(neighbor in leaf_node_set for neighbor in neighbors):\n",
        "        G.remove_node(internal_node)\n",
        "        all_internal_nodes.remove(internal_node)\n",
        "    # New condition: if the internal node is connected to exactly one leaf node and one internal node\n",
        "    elif len(neighbors) == 2 and any(neighbor in leaf_node_set for neighbor in neighbors) and any(neighbor in all_internal_nodes for neighbor in neighbors):\n",
        "        # Identify the leaf node and the other internal node\n",
        "        leaf_node = next(neighbor for neighbor in neighbors if neighbor in leaf_node_set)\n",
        "        other_internal_node = next(neighbor for neighbor in neighbors if neighbor in all_internal_nodes)\n",
        "\n",
        "        # Calculate the new branch length as the sum of distances from the distance matrix\n",
        "        new_branch_length = dist_matrix[node_name_to_index[internal_node]][node_name_to_index[leaf_node]] + dist_matrix[node_name_to_index[internal_node]][node_name_to_index[other_internal_node]]\n",
        "\n",
        "        # Remove the internal node\n",
        "        G.remove_node(internal_node)\n",
        "\n",
        "        # Add an edge between the leaf node and the other internal node with the new branch length\n",
        "        # Note: You might need to adjust this part if your graph G does not store weights\n",
        "        G.add_edge(leaf_node, other_internal_node, weight=new_branch_length)\n",
        "\n",
        "        all_internal_nodes.remove(internal_node)  # Optional: update the internal nodes list\n",
        "\n",
        "# Now G contains only the internal nodes that are connected to leaf nodes or more than one internal node\n"
      ],
      "metadata": {
        "id": "yK2EdrF5ea86"
      },
      "execution_count": 74,
      "outputs": []
    },
    {
      "cell_type": "code",
      "source": [
        "# Draw the graph\n",
        "pos = nx.spring_layout(G)  # Layout algorithm (you can choose another one)\n",
        "\n",
        "# Increase the figure size (adjust the width and height as needed)\n",
        "plt.figure(figsize=(15, 15))\n",
        "\n",
        "# Customize node and edge visual properties for clarity\n",
        "nx.draw(G, pos, with_labels=True, node_size=300, node_color='skyblue', font_size=8, font_color='black', edge_color='gray', width=1.0)\n",
        "\n",
        "# Display the graph\n",
        "plt.axis('off')\n",
        "plt.show()"
      ],
      "metadata": {
        "colab": {
          "base_uri": "https://localhost:8080/",
          "height": 1000
        },
        "id": "yaKjnvzv5umK",
        "outputId": "177cff10-5676-4570-e73f-756b3a471a35"
      },
      "execution_count": 75,
      "outputs": [
        {
          "output_type": "display_data",
          "data": {
            "text/plain": [
              "<Figure size 1500x1500 with 1 Axes>"
            ],
            "image/png": "[encoded data removed]"
          },
          "metadata": {}
        }
      ]
    },
    {
      "cell_type": "markdown",
      "source": [
        "# **write mst in newick**"
      ],
      "metadata": {
        "id": "tJRFqj6LrCC2"
      }
    },
    {
      "cell_type": "code",
      "source": [
        "import networkx as nx\n",
        "from ete3 import Tree\n",
        "\n",
        "def networkx_to_ete3(G, root_node):\n",
        "    # Check if the root node exists in the graph\n",
        "    if root_node not in G:\n",
        "        raise ValueError(f\"Root node '{root_node}' not found in the graph.\")\n",
        "\n",
        "    def add_children(node, ete3_node):\n",
        "        for child in G.neighbors(node):\n",
        "            # Add additional check to prevent backtracking to the parent\n",
        "            if ete3_node.up is None or ete3_node.up.name != child:\n",
        "                if not ete3_node.search_nodes(name=child):\n",
        "                    child_node = ete3_node.add_child(name=child)\n",
        "                    add_children(child, child_node)\n",
        "\n",
        "    root = Tree(name=root_node)\n",
        "    add_children(root_node, root)\n",
        "    return root\n",
        "\n",
        "\n",
        "\n",
        "# Example: Selecting a root node\n",
        "#root_node = '11125'  # Replace 'some_node' with the name of your chosen root node\n",
        "root_node = '0111111567899'  # Replace 'some_node' with the name of your chosen root node\n",
        "ete3_tree = networkx_to_ete3(G, root_node)\n",
        "\n",
        "# Save the tree to a file in Newick format\n",
        "newick_path = \"mst.txt\"  # Replace with your desired file path\n",
        "ete3_tree.write(format=1, outfile=newick_path)\n",
        "\n",
        "print(f\"Tree saved in Newick format to {newick_path}\")\n"
      ],
      "metadata": {
        "id": "em0YQjW765ta",
        "colab": {
          "base_uri": "https://localhost:8080/"
        },
        "outputId": "aa6e5076-badf-41af-fb5e-042a977ecc27"
      },
      "execution_count": 57,
      "outputs": [
        {
          "output_type": "stream",
          "name": "stdout",
          "text": [
            "Tree saved in Newick format to mst.txt\n"
          ]
        }
      ]
    },
    {
      "cell_type": "markdown",
      "source": [
        "**write mst in newick** Without Internal nodes"
      ],
      "metadata": {
        "id": "mLBzvqa-bb0z"
      }
    },
    {
      "cell_type": "code",
      "source": [
        "import networkx as nx\n",
        "from ete3 import Tree\n",
        "\n",
        "def networkx_to_ete3(G, root_node):\n",
        "    if root_node not in G:\n",
        "        raise ValueError(f\"Root node '{root_node}' not found in the graph.\")\n",
        "\n",
        "    visited = set()  # To keep track of visited nodes\n",
        "\n",
        "    def add_children(node, ete3_node, is_root=True):\n",
        "        visited.add(node)  # Mark the current node as visited\n",
        "        for child in G.neighbors(node):\n",
        "            if child not in visited:\n",
        "                # Set name only for leaf nodes\n",
        "                child_node_name = child if G.degree[child] == 1 else ''\n",
        "                child_node = ete3_node.add_child(name=child_node_name)\n",
        "                add_children(child, child_node, is_root=False)\n",
        "\n",
        "    root = Tree(name=root_node)\n",
        "    add_children(root_node, root)\n",
        "    return root\n",
        "\n",
        "# Example usage\n",
        "root_node = '0111111567899'  # Replace with your chosen root node\n",
        "ete3_tree = networkx_to_ete3(G, root_node)\n",
        "\n",
        "# Save the tree to a file in Newick format without internal node names\n",
        "newick_path = \"mst3.txt\"\n",
        "ete3_tree.write(format=1, outfile=newick_path)\n",
        "\n",
        "print(f\"Tree saved in Newick format to {newick_path}\")\n"
      ],
      "metadata": {
        "colab": {
          "base_uri": "https://localhost:8080/"
        },
        "id": "wzTy2gRqZAq6",
        "outputId": "8e695f3c-8285-4036-f57c-649e580943a7"
      },
      "execution_count": 76,
      "outputs": [
        {
          "output_type": "stream",
          "name": "stdout",
          "text": [
            "Tree saved in Newick format to mst3.txt\n"
          ]
        }
      ]
    },
    {
      "cell_type": "markdown",
      "source": [
        "**with merge branch length**"
      ],
      "metadata": {
        "id": "Bg2CFvn9iDxx"
      }
    },
    {
      "cell_type": "code",
      "source": [
        "import networkx as nx\n",
        "from ete3 import Tree\n",
        "\n",
        "def networkx_to_ete3(G, root_node):\n",
        "    if root_node not in G:\n",
        "        raise ValueError(f\"Root node '{root_node}' not found in the graph.\")\n",
        "\n",
        "    visited = set()  # To keep track of visited nodes\n",
        "\n",
        "    def add_children(node, ete3_node, is_root=True):\n",
        "        visited.add(node)  # Mark the current node as visited\n",
        "        for child in G.neighbors(node):\n",
        "            if child not in visited:\n",
        "                child_node_name = child if G.degree[child] == 1 else ''\n",
        "                child_node = ete3_node.add_child(name=child_node_name)\n",
        "                # Set the branch length (edge weight) for non-root nodes\n",
        "                if not is_root:\n",
        "                    branch_length = G[node][child].get('weight', 1.0)  # Default to 1.0 if no weight is found\n",
        "                    child_node.dist = branch_length\n",
        "                add_children(child, child_node, is_root=False)\n",
        "\n",
        "    root = Tree(name=root_node)\n",
        "    add_children(root_node, root)\n",
        "    return root\n",
        "\n",
        "# Example usage\n",
        "root_node = '0111111567899'  # Replace with your chosen root node\n",
        "ete3_tree = networkx_to_ete3(G, root_node)\n",
        "\n",
        "# Save the tree to a file in Newick format with branch lengths\n",
        "newick_path = \"mst4.txt\"\n",
        "ete3_tree.write(format=1, outfile=newick_path)\n",
        "\n",
        "print(f\"Tree saved in Newick format to {newick_path}\")\n"
      ],
      "metadata": {
        "colab": {
          "base_uri": "https://localhost:8080/"
        },
        "id": "-K4vvWMghL5-",
        "outputId": "80b432bf-b974-477d-dace-c7bee79bed44"
      },
      "execution_count": 77,
      "outputs": [
        {
          "output_type": "stream",
          "name": "stdout",
          "text": [
            "Tree saved in Newick format to mst4.txt\n"
          ]
        }
      ]
    },
    {
      "cell_type": "markdown",
      "source": [
        "# **Rename_leaves**"
      ],
      "metadata": {
        "id": "ECwgV4ttE143"
      }
    },
    {
      "cell_type": "code",
      "source": [
        "pip install Bio"
      ],
      "metadata": {
        "id": "JW9phZLGl8Eg"
      },
      "execution_count": null,
      "outputs": []
    },
    {
      "cell_type": "code",
      "source": [
        "from Bio import Phylo\n",
        "import re,io\n",
        "\n",
        "# Your renaming dictionary\n",
        "renaming_dict = {\n",
        "    1: \"Guangxi_Pangolin_P2V\",\n",
        "    2: \"Guangdong_Pangolin_P2S_2019\",\n",
        "    3: \"Guangdong_Pangolin_1_2019\",\n",
        "    4: \"RaTG13\",\n",
        "    5: \"Hu_Australia_VIC231_2020\",\n",
        "    6: \"Hu_Wuhan_2020\",\n",
        "    7: \"Hu_USA_UT_00346_2020\",\n",
        "    8: \"Hu_Italy_TE4836_2020\",\n",
        "    9: \"Bat_CoVZXC21\",\n",
        "    10: \"Bat_CoVZC45\",\n",
        "    11: \"BM48_31_BGR_2008\",\n",
        "    12: \"BtKY72\",\n",
        "    13: \"SARS\",\n",
        "    14: \"Tor2\",\n",
        "    15: \"SARS-CoV_BJ182-4\",\n",
        "    16: \"Rs3367\",\n",
        "    17: \"Bovine_CoV\",\n",
        "    18: \"Bovine_OH440\",\n",
        "    19: \"Human_ent_4408\",\n",
        "    20: \"Bovine_AH187\",\n",
        "    21: \"Rabbit_HKU14\",\n",
        "    22: \"Porcine_v\",\n",
        "    23: \"Equine_NC99\",\n",
        "    24: \"Human_OC43\",\n",
        "    25: \"HKU1\",\n",
        "    26: \"Murine_A59\",\n",
        "    27: \"Murine_RA59/R13\",\n",
        "    28: \"Murine_virus\",\n",
        "    29: \"Murine_JHM\",\n",
        "    30: \"Rat_Parker\",\n",
        "    31: \"Feline_per\",\n",
        "    32: \"Bat_HKU5-1\",\n",
        "    33: \"MERS-CoV_S\",\n",
        "    34: \"Bat_HKU4-1\",\n",
        "    35: \"BtCoV_273_2005\",\n",
        "    36: \"Rf1\",\n",
        "    37: \"BtCoV_279_2005\",\n",
        "    38: \"HKU3-12\",\n",
        "    39: \"HKU3-6\",\n",
        "    40: \"Guangxi_Pangolin_P1E\",\n",
        "    41: \"Guangxi_Pangolin_P4L\",\n",
        "    42: \"Guangxi_Pangolin_P5L\",\n",
        "    43: \"Guangxi_Pangolin_P5E\"\n",
        "}\n"
      ],
      "metadata": {
        "id": "gCD4sIf9EyTM"
      },
      "execution_count": null,
      "outputs": []
    },
    {
      "cell_type": "markdown",
      "source": [
        "**43Leaves**"
      ],
      "metadata": {
        "id": "dFyX2OIJKkTe"
      }
    },
    {
      "cell_type": "code",
      "source": [
        "from Bio import Phylo\n",
        "import re,io\n",
        "\n",
        "renaming_dict = {\n",
        "    \"Guangxi_Pangolin_P2V\": \"1\",\n",
        "    \"Guangdong_Pangolin_P2S_2019\": \"2\",\n",
        "    \"Guangdong_Pangolin_1_2019\": \"3\",\n",
        "    \"RaTG13\": \"4\",\n",
        "    \"Hu_Australia_VIC231_2020\": \"5\",\n",
        "    \"Hu_Wuhan_2020\": \"6\",\n",
        "    \"Hu_USA_UT_00346_2020\": \"7\",\n",
        "    \"Hu_Italy_TE4836_2020\": \"8\",\n",
        "    \"Bat_CoVZXC21\": \"9\",\n",
        "    \"Bat_CoVZC45\": \"10\",\n",
        "    \"BM48_31_BGR_2008\": \"11\",\n",
        "    \"BtKY72\": \"12\",\n",
        "    \"SARS\": \"13\",\n",
        "    \"Tor2\": \"14\",\n",
        "    \"SARS-CoV_BJ182-4\": \"15\",\n",
        "    \"Rs3367\": \"16\",\n",
        "    \"Bovine_CoV\": \"17\",\n",
        "    \"Bovine_OH440\": \"18\",\n",
        "    \"Human_ent_4408\": \"19\",\n",
        "    \"Bovine_AH187\": \"20\",\n",
        "    \"Rabbit_HKU14\": \"21\",\n",
        "    \"Porcine_v\": \"22\",\n",
        "    \"Equine_NC99\": \"23\",\n",
        "    \"Human_OC43\": \"24\",\n",
        "    \"HKU1\": \"25\",\n",
        "    \"Murine_A59\": \"26\",\n",
        "    \"Murine_RA59/R13\": \"27\",\n",
        "    \"Murine_virus\": \"28\",\n",
        "    \"Murine_JHM\": \"29\",\n",
        "    \"Rat_Parker\": \"30\",\n",
        "    \"Feline_per\": \"31\",\n",
        "    \"Bat_HKU5-1\": \"32\",\n",
        "    \"MERS-CoV_S\": \"33\",\n",
        "    \"Bat_HKU4-1\": \"34\",\n",
        "    \"BtCoV_273_2005\": \"35\",\n",
        "    \"Rf1\": \"36\",\n",
        "    \"BtCoV_279_2005\": \"37\",\n",
        "    \"HKU3-12\": \"38\",\n",
        "    \"HKU3-6\": \"39\",\n",
        "    \"Guangxi_Pangolin_P1E\": \"40\",\n",
        "    \"Guangxi_Pangolin_P4L\": \"41\",\n",
        "    \"Guangxi_Pangolin_P5L\": \"42\",\n",
        "    \"Guangxi_Pangolin_P5E\": \"43\"\n",
        "}\n",
        "\n",
        "# Function to rename leaves in a single tree\n",
        "def rename_leaves(tree, renaming_dict):\n",
        "    for leaf in tree.get_terminals():\n",
        "        if leaf.name in renaming_dict:\n",
        "            leaf.name = renaming_dict[leaf.name]\n",
        "\n",
        "# Read the file containing the trees\n",
        "with open('pruned_trees11.txt', 'r') as file:\n",
        "    tree_data = file.read().splitlines()\n",
        "\n",
        "# Process each tree\n",
        "renamed_trees = []\n",
        "for tree_str in tree_data:\n",
        "    tree = Phylo.read(io.StringIO(tree_str), 'newick')\n",
        "    rename_leaves(tree, renaming_dict)\n",
        "    # Save the renamed tree to a list\n",
        "    renamed_tree_str = io.StringIO()\n",
        "    Phylo.write(tree, renamed_tree_str, 'newick')\n",
        "    renamed_trees.append(renamed_tree_str.getvalue().strip())\n",
        "\n",
        "# Write the renamed trees to a new file\n",
        "with open('renamed_pruned_trees11.txt', 'w') as file:\n",
        "    for tree_str in renamed_trees:\n",
        "        file.write(tree_str + '\\n')"
      ],
      "metadata": {
        "id": "nTS_BAR4GHwZ"
      },
      "execution_count": null,
      "outputs": []
    },
    {
      "cell_type": "markdown",
      "source": [
        "**23Leaves**"
      ],
      "metadata": {
        "id": "yxO0zg1YLBkj"
      }
    },
    {
      "cell_type": "code",
      "source": [
        "renaming_dict = {\n",
        "    \"Guangxi_Pangolin_P2V\": \"1\",\n",
        "    \"Guangdong_Pangolin_P2S_2019\": \"2\",\n",
        "    \"Guangdong_Pangolin_1_2019\": \"3\",\n",
        "    \"RaTG13\": \"4\",\n",
        "    \"Hu_Australia_VIC231_2020\": \"5\",\n",
        "    \"Hu_Wuhan_2020\": \"6\",\n",
        "    \"Hu_USA_UT_00346_2020\": \"7\",\n",
        "    \"Hu_Italy_TE4836_2020\": \"8\",\n",
        "    \"Bat_CoVZXC21\": \"9\",\n",
        "    \"Bat_CoVZC45\": \"10\",\n",
        "    \"SARS\": \"11\",\n",
        "    \"Tor2\": \"12\",\n",
        "    \"SARS-CoV_BJ182-4\": \"13\",\n",
        "    \"Rs3367\": \"14\",\n",
        "    \"BtCoV_273_2005\": \"15\",\n",
        "    \"Rf1\": \"16\",\n",
        "    \"BtCoV_279_2005\": \"17\",\n",
        "    \"HKU3-12\": \"18\",\n",
        "    \"HKU3-6\": \"19\",\n",
        "    \"Guangxi_Pangolin_P1E\": \"20\",\n",
        "    \"Guangxi_Pangolin_P4L\": \"21\",\n",
        "    \"Guangxi_Pangolin_P5L\": \"22\",\n",
        "    \"Guangxi_Pangolin_P5E\": \"23\"\n",
        "}\n",
        "\n",
        "\n",
        "# Function to rename leaves in a single tree\n",
        "def rename_leaves(tree, renaming_dict):\n",
        "    for leaf in tree.get_terminals():\n",
        "        if leaf.name in renaming_dict:\n",
        "            leaf.name = renaming_dict[leaf.name]\n",
        "\n",
        "# Read the file containing the trees\n",
        "with open('pruned_trees12.txt', 'r') as file:\n",
        "    tree_data = file.read().splitlines()\n",
        "\n",
        "# Process each tree\n",
        "renamed_trees = []\n",
        "for tree_str in tree_data:\n",
        "    tree = Phylo.read(io.StringIO(tree_str), 'newick')\n",
        "    rename_leaves(tree, renaming_dict)\n",
        "    # Save the renamed tree to a list\n",
        "    renamed_tree_str = io.StringIO()\n",
        "    Phylo.write(tree, renamed_tree_str, 'newick')\n",
        "    renamed_trees.append(renamed_tree_str.getvalue().strip())\n",
        "\n",
        "# Write the renamed trees to a new file\n",
        "with open('renamed_pruned_trees12.txt', 'w') as file:\n",
        "    for tree_str in renamed_trees:\n",
        "        file.write(tree_str + '\\n')"
      ],
      "metadata": {
        "id": "WwZHajwaKm2n"
      },
      "execution_count": null,
      "outputs": []
    },
    {
      "cell_type": "markdown",
      "source": [
        "# **Count#leaves**"
      ],
      "metadata": {
        "id": "xuEatVUEJOXJ"
      }
    },
    {
      "cell_type": "code",
      "source": [
        "from Bio import Phylo\n",
        "import io\n",
        "\n",
        "def count_leaves_in_tree(tree_str):\n",
        "    tree = Phylo.read(io.StringIO(tree_str), \"newick\")\n",
        "    return len(tree.get_terminals())\n",
        "\n",
        "# Path to your file containing 11 trees in Newick format\n",
        "file_path = 'renamed_pruned_trees12.txt'\n",
        "# file_path = '/content/12_Covid-19_gene trees_original_23-46_taxa.nwk'\n",
        "# Read the file and split it into individual trees (assuming one tree per line)\n",
        "with open(file_path, 'r') as file:\n",
        "    tree_strings = file.read().splitlines()\n",
        "\n",
        "# Count leaves in each tree\n",
        "leaf_counts = [count_leaves_in_tree(tree_str) for tree_str in tree_strings]\n",
        "\n",
        "# Print leaf count for each tree\n",
        "for i, count in enumerate(leaf_counts, 1):\n",
        "    print(f\"Number of leaves in tree {i}: {count}\")\n"
      ],
      "metadata": {
        "colab": {
          "base_uri": "https://localhost:8080/"
        },
        "id": "qxRyr-0-Gq9-",
        "outputId": "f8dcf1bc-abb9-46b5-b8a8-08267c1dfd5c"
      },
      "execution_count": null,
      "outputs": [
        {
          "output_type": "stream",
          "name": "stdout",
          "text": [
            "Number of leaves in tree 1: 23\n",
            "Number of leaves in tree 2: 23\n",
            "Number of leaves in tree 3: 23\n",
            "Number of leaves in tree 4: 23\n",
            "Number of leaves in tree 5: 23\n",
            "Number of leaves in tree 6: 23\n",
            "Number of leaves in tree 7: 23\n",
            "Number of leaves in tree 8: 23\n",
            "Number of leaves in tree 9: 23\n",
            "Number of leaves in tree 10: 23\n",
            "Number of leaves in tree 11: 23\n",
            "Number of leaves in tree 12: 23\n",
            "Number of leaves in tree 13: 23\n"
          ]
        }
      ]
    },
    {
      "cell_type": "markdown",
      "source": [
        "# **Keep_Common_leaves**"
      ],
      "metadata": {
        "id": "nHKyTAAfJ2no"
      }
    },
    {
      "cell_type": "code",
      "source": [
        "from Bio import Phylo\n",
        "import io\n",
        "\n",
        "def get_common_leaves(tree_strings):\n",
        "    leaf_sets = []\n",
        "    for tree_str in tree_strings:\n",
        "        tree = Phylo.read(io.StringIO(tree_str), \"newick\")\n",
        "        leaves = set(leaf.name for leaf in tree.get_terminals())\n",
        "        leaf_sets.append(leaves)\n",
        "    return set.intersection(*leaf_sets)\n",
        "\n",
        "def prune_tree(tree, common_leaves):\n",
        "    for leaf in tree.get_terminals():\n",
        "        if leaf.name not in common_leaves:\n",
        "            tree.prune(leaf)\n",
        "    return tree\n",
        "\n",
        "# Path to your file containing 12 trees in Newick format\n",
        "file_path = '/content/trees12_with_sp.txt'\n",
        "\n",
        "# Read the file and split it into individual trees (assuming one tree per line)\n",
        "with open(file_path, 'r') as file:\n",
        "    tree_strings = file.read().splitlines()\n",
        "\n",
        "# Find common leaves\n",
        "common_leaves = get_common_leaves(tree_strings)\n",
        "\n",
        "# Prune each tree\n",
        "pruned_trees = []\n",
        "for tree_str in tree_strings:\n",
        "    tree = Phylo.read(io.StringIO(tree_str), \"newick\")\n",
        "    pruned_tree = prune_tree(tree, common_leaves)\n",
        "    pruned_tree_str = io.StringIO()\n",
        "    Phylo.write(pruned_tree, pruned_tree_str, 'newick')\n",
        "    pruned_trees.append(pruned_tree_str.getvalue().strip())\n",
        "\n",
        "# Write the pruned trees to a new file\n",
        "with open('pruned_trees12_with_sp.txt', 'w') as file:\n",
        "    for tree_str in pruned_trees:\n",
        "        file.write(tree_str + '\\n')\n"
      ],
      "metadata": {
        "id": "2o0u9mpQJ8Fy"
      },
      "execution_count": null,
      "outputs": []
    }
  ]
}